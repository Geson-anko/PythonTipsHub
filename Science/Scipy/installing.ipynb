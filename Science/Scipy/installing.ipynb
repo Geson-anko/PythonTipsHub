{
 "cells": [
  {
   "cell_type": "markdown",
   "metadata": {},
   "source": [
    "# How to install scipy\n",
    "Please run the following code.\\\n",
    "1. pip install scipy"
   ]
  }
 ],
 "metadata": {
  "language_info": {
   "name": "python"
  },
  "orig_nbformat": 4
 },
 "nbformat": 4,
 "nbformat_minor": 2
}
