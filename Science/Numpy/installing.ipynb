{
 "cells": [
  {
   "cell_type": "markdown",
   "metadata": {},
   "source": [
    "# How to install numpy\n",
    "run the following command in conda powershell or conda command prompt"
   ]
  },
  {
   "cell_type": "code",
   "execution_count": null,
   "metadata": {},
   "outputs": [],
   "source": [
    "conda install -c anaconda numpy"
   ]
  }
 ],
 "metadata": {
  "interpreter": {
   "hash": "168da6cc306b4fd9103bca5b57557b28b2a461e00a41b41c6518720e56531f29"
  },
  "kernelspec": {
   "display_name": "Python 3.9.7 64-bit ('jarvis': conda)",
   "language": "python",
   "name": "python3"
  },
  "language_info": {
   "name": "python",
   "version": "3.9.7"
  },
  "orig_nbformat": 4
 },
 "nbformat": 4,
 "nbformat_minor": 2
}
