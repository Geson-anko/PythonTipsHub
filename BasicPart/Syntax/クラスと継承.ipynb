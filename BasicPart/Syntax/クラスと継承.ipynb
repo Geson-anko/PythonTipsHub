{
 "cells": [
  {
   "cell_type": "code",
   "execution_count": 3,
   "metadata": {},
   "outputs": [
    {
     "name": "stdout",
     "output_type": "stream",
     "text": [
      "7\n"
     ]
    }
   ],
   "source": [
    "class test:\n",
    "    a:int=0\n",
    "    def __init__(self,a):\n",
    "        self.a=a\n",
    "\n",
    "\n",
    "t=test(7)\n",
    "print(t.a)\n",
    "\n"
   ]
  }
 ],
 "metadata": {
  "interpreter": {
   "hash": "4cc2e7bd83c7a4a5464d7e583f5e17b7952ef5f1c29b99183ab18375b8eb77c5"
  },
  "kernelspec": {
   "display_name": "Python 3.6.13 64-bit ('openCV': conda)",
   "language": "python",
   "name": "python3"
  },
  "language_info": {
   "codemirror_mode": {
    "name": "ipython",
    "version": 3
   },
   "file_extension": ".py",
   "mimetype": "text/x-python",
   "name": "python",
   "nbconvert_exporter": "python",
   "pygments_lexer": "ipython3",
   "version": "3.6.13"
  },
  "orig_nbformat": 4
 },
 "nbformat": 4,
 "nbformat_minor": 2
}
