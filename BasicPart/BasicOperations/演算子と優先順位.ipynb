{
 "cells": [
  {
   "cell_type": "markdown",
   "metadata": {},
   "source": [
    "# 演算子とその優先順位 (Operations and their priorities.)\n",
    "Pythonは汎用プログラミング言語なので、様々な演算（計算）ができます。\n",
    "その演算方法はただの数値データだけにとどまらず、配列（list)や文字列(str)にも実装されています。\n",
    "しかしそれらには演算の優先順位があります。（加算より乗算の方が先に計算されるなど）\\\n",
    "今回はそれについて確認していきましょう。\n",
    "\n",
    "Python is able to do various operations (calculations) because it's a general-purpose programing language.\n",
    "Its operations are not only numerical values, but also list, strings, and etc...\n",
    "But there are some priorities in them. (the priority of multipication is higher than addtion.)\\\n",
    "So, let's check it out!"
   ]
  },
  {
   "cell_type": "markdown",
   "metadata": {},
   "source": [
    "### 参考 (Reference)\n",
    "https://www.headboost.jp/python-operators/"
   ]
  },
  {
   "cell_type": "code",
   "execution_count": 1,
   "metadata": {},
   "outputs": [
    {
     "name": "stdout",
     "output_type": "stream",
     "text": [
      "Hello world\n"
     ]
    }
   ],
   "source": [
    "\n",
    "print(\"Hello world\")\n"
   ]
  }
 ],
 "metadata": {
  "interpreter": {
   "hash": "134242d850f5597e40b3ce96b326ee97f2caeebdc9bdb770615172b979c34ca2"
  },
  "kernelspec": {
   "display_name": "Python 3.8.10 64-bit ('JARVIS': conda)",
   "language": "python",
   "name": "python3"
  },
  "language_info": {
   "codemirror_mode": {
    "name": "ipython",
    "version": 3
   },
   "file_extension": ".py",
   "mimetype": "text/x-python",
   "name": "python",
   "nbconvert_exporter": "python",
   "pygments_lexer": "ipython3",
   "version": "3.8.5"
  },
  "orig_nbformat": 4
 },
 "nbformat": 4,
 "nbformat_minor": 2
}
